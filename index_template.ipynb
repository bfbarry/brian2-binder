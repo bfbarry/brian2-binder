{
 "cells": [
  {
   "cell_type": "markdown",
   "metadata": {
    "heading_collapsed": false,
    "level": 7
   },
   "source": [
    "<div class=\"clearfix\" style=\"padding: 10px; padding-left: 0px\">\n",
    "<a href=\"http://briansimulator.org/\"><img src=\"http://briansimulator.org/WordPress/wp-content/ata-images/brian1.png\" alt=\"The Brian spiking neural network simulator\" title=\"The Brian spiking neural network simulator\" width=\"200px\" style=\"display: inline-block; margin-top: 5px;\"></a>\n",
    "<a href=\"http://mybinder.org/\"><img src=\"https://mybinder.org/static/logo.svg\" alt=\"binder logo\" title=\"binder\" width=\"375px\" class=\"pull-right\" style=\"display: inline-block; margin: 0px;\"></a>\n",
    "</div>\n",
    "# Welcome to the Brian binder\n",
    "\n",
    "This repository is specially designed for trying out Brian on the [mybinder.org](http://mybinder.org) server. \n",
    "The code for Brian module can be found [here](https://github.com/brian-team/brian2) with accompanying <a href=\"http://brian2.readthedocs.io/\" target=\"_blank\">documentation here</a> (which opens in a new window). \n",
    "\n",
    "For updates on Brian2, follow us on [twitter (@briansimulator)](https://twitter.com/briansimulator) or [Facebook](https://www.facebook.com/briansimulator). \n",
    "If you have a script or notebook that you would like included in the examples, especially interactive and published models, please [contact us](https://groups.google.com/forum/#!forum/brian-development). \n",
    "\n",
    "## Interactive demo\n",
    "\n",
    "Click [here](demo.ipynb) for an interactive demo of a Brian model with a graphical interface to modify parameters.\n",
    "\n",
    "## Tutorials"
   ]
  },
  {
   "cell_type": "markdown",
   "metadata": {
    "level": 7
   },
   "source": [
    "INSERT_TUTORIALS_HERE"
   ]
  },
  {
   "cell_type": "markdown",
   "metadata": {
    "heading_collapsed": false,
    "level": 2
   },
   "source": [
    "## Play with Brian\n",
    "\n",
    "You can edit and run the cells below to try out Brian. Simply click on the cell, edit the code and press `CTRL+ENTER` to run it."
   ]
  },
  {
   "cell_type": "code",
   "execution_count": null,
   "metadata": {
    "collapsed": false,
    "level": 7
   },
   "outputs": [],
   "source": [
    "%matplotlib inline\n",
    "from brian2 import *\n",
    "start_scope()\n",
    "# add your code below here"
   ]
  },
  {
   "cell_type": "markdown",
   "metadata": {
    "heading_collapsed": false,
    "level": 2
   },
   "source": [
    "## Examples"
   ]
  },
  {
   "cell_type": "markdown",
   "metadata": {
    "level": 7
   },
   "source": [
    "INSERT_EXAMPLES_HERE"
   ]
  },
  {
   "cell_type": "markdown",
   "metadata": {
    "heading_collapsed": false,
    "level": 2
   },
   "source": [
    "## Tests\n",
    "\n",
    "A suite of tests can be run through executing the code in the [test notebook](test.ipynb) (see the [documentation](http://brian2.readthedocs.io/en/latest/developer/guidelines/testing.html) for more details). "
   ]
  }
 ],
 "metadata": {
  "kernelspec": {
   "display_name": "Python 3",
   "language": "python",
   "name": "python3"
  },
  "language_info": {
   "codemirror_mode": {
    "name": "ipython",
    "version": 3
   },
   "file_extension": ".py",
   "mimetype": "text/x-python",
   "name": "python",
   "nbconvert_exporter": "python",
   "pygments_lexer": "ipython2",
   "version": "3.6.3"
  }
 },
 "nbformat": 4,
 "nbformat_minor": 1
}
